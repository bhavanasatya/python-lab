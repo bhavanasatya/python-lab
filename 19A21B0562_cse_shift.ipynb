{
  "nbformat": 4,
  "nbformat_minor": 0,
  "metadata": {
    "colab": {
      "name": "19A21B0562 cse shift.ipynb",
      "provenance": [],
      "collapsed_sections": [],
      "toc_visible": true,
      "authorship_tag": "ABX9TyPhEkMEmoBGZ2PPmeF1P1Rd",
      "include_colab_link": true
    },
    "kernelspec": {
      "name": "python3",
      "display_name": "Python 3"
    },
    "language_info": {
      "name": "python"
    }
  },
  "cells": [
    {
      "cell_type": "markdown",
      "metadata": {
        "id": "view-in-github",
        "colab_type": "text"
      },
      "source": [
        "<a href=\"https://colab.research.google.com/github/bhavanasatya/python-lab/blob/main/19A21B0562_cse_shift.ipynb\" target=\"_parent\"><img src=\"https://colab.research.google.com/assets/colab-badge.svg\" alt=\"Open In Colab\"/></a>"
      ]
    },
    {
      "cell_type": "code",
      "metadata": {
        "id": "ZKXLpKoL85vP"
      },
      "source": [
        ""
      ],
      "execution_count": null,
      "outputs": []
    },
    {
      "cell_type": "markdown",
      "metadata": {
        "id": "aJph-GPg9L73"
      },
      "source": [
        "# Exercise-1\n",
        " a) Runnig instructions in interactive interpreter and a python script"
      ]
    },
    {
      "cell_type": "code",
      "metadata": {
        "colab": {
          "base_uri": "https://localhost:8080/"
        },
        "id": "XjcZ8DFF90w8",
        "outputId": "5dbe9b4a-45f7-4b35-b378-4769976dab32"
      },
      "source": [
        "a=10\n",
        "print(a)"
      ],
      "execution_count": null,
      "outputs": [
        {
          "output_type": "stream",
          "text": [
            "10\n"
          ],
          "name": "stdout"
        }
      ]
    },
    {
      "cell_type": "code",
      "metadata": {
        "id": "dg4bXAh5giWm"
      },
      "source": [
        ""
      ],
      "execution_count": null,
      "outputs": []
    },
    {
      "cell_type": "code",
      "metadata": {
        "colab": {
          "base_uri": "https://localhost:8080/"
        },
        "id": "bbMFBhXA-HOd",
        "outputId": "d4b8e99b-d3fe-461c-989e-42617ef9aa0b"
      },
      "source": [
        "print(\"welcome to python\")"
      ],
      "execution_count": null,
      "outputs": [
        {
          "output_type": "stream",
          "text": [
            "welcome to python\n"
          ],
          "name": "stdout"
        }
      ]
    },
    {
      "cell_type": "markdown",
      "metadata": {
        "id": "6pJLeGDO-SP2"
      },
      "source": [
        "b)write a program to purposefully raise identation error and corret it\n"
      ]
    },
    {
      "cell_type": "code",
      "metadata": {
        "colab": {
          "base_uri": "https://localhost:8080/",
          "height": 129
        },
        "id": "UnkYl_DC-lGb",
        "outputId": "f1af4b2b-9ad1-4467-a36b-7d333a5eaf48"
      },
      "source": [
        "a=10\n",
        "b=20\n",
        "if (a>b):\n",
        "  print(\"a is big \")\n",
        "  \n",
        "    print(\"b is big\")"
      ],
      "execution_count": null,
      "outputs": [
        {
          "output_type": "error",
          "ename": "IndentationError",
          "evalue": "ignored",
          "traceback": [
            "\u001b[0;36m  File \u001b[0;32m\"<ipython-input-5-dd51527d463e>\"\u001b[0;36m, line \u001b[0;32m6\u001b[0m\n\u001b[0;31m    print(\"b is big\")\u001b[0m\n\u001b[0m    ^\u001b[0m\n\u001b[0;31mIndentationError\u001b[0m\u001b[0;31m:\u001b[0m unexpected indent\n"
          ]
        }
      ]
    },
    {
      "cell_type": "markdown",
      "metadata": {
        "id": "5ziByrCt_Jvl"
      },
      "source": [
        "corrected program"
      ]
    },
    {
      "cell_type": "code",
      "metadata": {
        "colab": {
          "base_uri": "https://localhost:8080/"
        },
        "id": "3ife9TiD_jxC",
        "outputId": "a0a0d3eb-c5e1-4144-b25c-91bb6e72aff2"
      },
      "source": [
        "print(\"welcome to python\")\n",
        "a=10\n",
        "b=20\n",
        "if(a>b):\n",
        "  print(\"a is big\")\n",
        "  print(\"a=\",a)\n",
        "else:\n",
        "     print(\"b is big\")\n",
        "     print(\"b=\",b)"
      ],
      "execution_count": null,
      "outputs": [
        {
          "output_type": "stream",
          "text": [
            "welcome to python\n",
            "b is big\n",
            "b= 20\n"
          ],
          "name": "stdout"
        }
      ]
    },
    {
      "cell_type": "markdown",
      "metadata": {
        "id": "3aqikHqPAddR"
      },
      "source": [
        "#Exercise-2\n",
        "a)write a program to compute distance between two point taking input from the user "
      ]
    },
    {
      "cell_type": "code",
      "metadata": {
        "colab": {
          "base_uri": "https://localhost:8080/"
        },
        "id": "bcxLia0FBGJK",
        "outputId": "215a665c-46fc-474b-bc14-45d79d39f459"
      },
      "source": [
        "import math\n",
        "x1=int(input(\"enter the value of x1:\"))\n",
        "x2=int(input(\"enter the value of x2:\"))\n",
        "y1=int(input(\"enter the value of y1:\"))\n",
        "y2=int(input(\"enter the value of y2:\"))\n",
        "d=math.sqrt(((x2-x1)**2)+((y2-y1)**2))\n",
        "print(\"distance of two points:\",d)\n",
        "\n"
      ],
      "execution_count": null,
      "outputs": [
        {
          "output_type": "stream",
          "text": [
            "enter the value of x1:5\n",
            "enter the value of x2:6\n",
            "enter the value of y1:5\n",
            "enter the value of y2:6\n",
            "distance of two points: 1.4142135623730951\n"
          ],
          "name": "stdout"
        }
      ]
    },
    {
      "cell_type": "markdown",
      "metadata": {
        "id": "bYPoNGsdDm-C"
      },
      "source": [
        "# Exercise-3\n",
        "a) write a program add.py that takes 2 numbers as command line arguments and prints the sum"
      ]
    },
    {
      "cell_type": "code",
      "metadata": {
        "colab": {
          "base_uri": "https://localhost:8080/",
          "height": 231
        },
        "id": "BWPytc0hEFr5",
        "outputId": "49105626-fe74-441d-9446-d7c1d4467aa1"
      },
      "source": [
        "import sys\n",
        "a=int(sys.argv[1])\n",
        "b=int(sys.argv[2])\n",
        "sum=a+b\n",
        "print(\"sum of two values:\",sum)"
      ],
      "execution_count": null,
      "outputs": [
        {
          "output_type": "error",
          "ename": "ValueError",
          "evalue": "ignored",
          "traceback": [
            "\u001b[0;31m---------------------------------------------------------------------------\u001b[0m",
            "\u001b[0;31mValueError\u001b[0m                                Traceback (most recent call last)",
            "\u001b[0;32m<ipython-input-11-e1ba2ed119a3>\u001b[0m in \u001b[0;36m<module>\u001b[0;34m()\u001b[0m\n\u001b[1;32m      1\u001b[0m \u001b[0;32mimport\u001b[0m \u001b[0msys\u001b[0m\u001b[0;34m\u001b[0m\u001b[0;34m\u001b[0m\u001b[0m\n\u001b[0;32m----> 2\u001b[0;31m \u001b[0ma\u001b[0m\u001b[0;34m=\u001b[0m\u001b[0mint\u001b[0m\u001b[0;34m(\u001b[0m\u001b[0msys\u001b[0m\u001b[0;34m.\u001b[0m\u001b[0margv\u001b[0m\u001b[0;34m[\u001b[0m\u001b[0;36m1\u001b[0m\u001b[0;34m]\u001b[0m\u001b[0;34m)\u001b[0m\u001b[0;34m\u001b[0m\u001b[0;34m\u001b[0m\u001b[0m\n\u001b[0m\u001b[1;32m      3\u001b[0m \u001b[0mb\u001b[0m\u001b[0;34m=\u001b[0m\u001b[0mint\u001b[0m\u001b[0;34m(\u001b[0m\u001b[0msys\u001b[0m\u001b[0;34m.\u001b[0m\u001b[0margv\u001b[0m\u001b[0;34m[\u001b[0m\u001b[0;36m2\u001b[0m\u001b[0;34m]\u001b[0m\u001b[0;34m)\u001b[0m\u001b[0;34m\u001b[0m\u001b[0;34m\u001b[0m\u001b[0m\n\u001b[1;32m      4\u001b[0m \u001b[0msum\u001b[0m\u001b[0;34m=\u001b[0m\u001b[0ma\u001b[0m\u001b[0;34m+\u001b[0m\u001b[0mb\u001b[0m\u001b[0;34m\u001b[0m\u001b[0;34m\u001b[0m\u001b[0m\n\u001b[1;32m      5\u001b[0m \u001b[0mprint\u001b[0m\u001b[0;34m(\u001b[0m\u001b[0;34m\"sum of two values:\"\u001b[0m\u001b[0;34m,\u001b[0m\u001b[0msum\u001b[0m\u001b[0;34m)\u001b[0m\u001b[0;34m\u001b[0m\u001b[0;34m\u001b[0m\u001b[0m\n",
            "\u001b[0;31mValueError\u001b[0m: invalid literal for int() with base 10: '-f'"
          ]
        }
      ]
    },
    {
      "cell_type": "markdown",
      "metadata": {
        "id": "AO-aFRFQFbOR"
      },
      "source": [
        "a)Write a program for checking whether the given number is an even number or not"
      ]
    },
    {
      "cell_type": "code",
      "metadata": {
        "colab": {
          "base_uri": "https://localhost:8080/"
        },
        "id": "N1GKi0CVGGsP",
        "outputId": "d71135f2-319e-4e93-ee32-eb801dc4c193"
      },
      "source": [
        "n=int(input(\"enter a number:\"))\n",
        "if(n%2==0):\n",
        " print(\"given number is EVEN\")\n",
        "else:\n",
        "  print(\"given number is ODD\")\n"
      ],
      "execution_count": null,
      "outputs": [
        {
          "output_type": "stream",
          "text": [
            "enter a number:2\n",
            "given number is EVEN\n"
          ],
          "name": "stdout"
        }
      ]
    },
    {
      "cell_type": "markdown",
      "metadata": {
        "id": "FwliUVcnGxnI"
      },
      "source": [
        "3b)Using a forloop ,write a program that prints outs the decimal equivalents of 1/2,1/3,1/4......1/10"
      ]
    },
    {
      "cell_type": "code",
      "metadata": {
        "colab": {
          "base_uri": "https://localhost:8080/"
        },
        "id": "NKv5ARsXHUnn",
        "outputId": "4ede956f-2bf9-436a-881e-7006f7c86fa0"
      },
      "source": [
        "n==int(input(\"enter a number:\"))\n",
        "for i in range(2,10):\n",
        "  de=1/i\n",
        "  print(\"1/\"+str(i)+\"=\",de)"
      ],
      "execution_count": null,
      "outputs": [
        {
          "output_type": "stream",
          "text": [
            "enter a number:10\n",
            "1/2= 0.5\n",
            "1/3= 0.3333333333333333\n",
            "1/4= 0.25\n",
            "1/5= 0.2\n",
            "1/6= 0.16666666666666666\n",
            "1/7= 0.14285714285714285\n",
            "1/8= 0.125\n",
            "1/9= 0.1111111111111111\n"
          ],
          "name": "stdout"
        }
      ]
    },
    {
      "cell_type": "markdown",
      "metadata": {
        "id": "G56rO7WFKn3-"
      },
      "source": [
        "3c) Write a program using for loop over a sequence what is sequence?"
      ]
    },
    {
      "cell_type": "code",
      "metadata": {
        "colab": {
          "base_uri": "https://localhost:8080/"
        },
        "id": "TFLV1qIJK6BA",
        "outputId": "4dc94554-06fc-4c2a-9ecd-4fb06d9edd01"
      },
      "source": [
        "#number and string sequence\n",
        "print(\"sequence\")\n",
        "arr=[4,\"abc\",-45,'c',2.5,True]\n",
        "for x in arr:\n",
        "  print(x)"
      ],
      "execution_count": null,
      "outputs": [
        {
          "output_type": "stream",
          "text": [
            "sequence\n",
            "4\n",
            "abc\n",
            "-45\n",
            "c\n",
            "2.5\n",
            "True\n"
          ],
          "name": "stdout"
        }
      ]
    },
    {
      "cell_type": "markdown",
      "metadata": {
        "id": "wK_Iwx93L9Vx"
      },
      "source": [
        "3d)Write a program using a whileloop that asks the user for a number and prints a countdown from that number to zero"
      ]
    },
    {
      "cell_type": "code",
      "metadata": {
        "colab": {
          "base_uri": "https://localhost:8080/"
        },
        "id": "G9gLNydwMaEM",
        "outputId": "d529a636-06b4-40cc-b90b-54b07f0dacfb"
      },
      "source": [
        "n=int(input(\"enter value of n:\"))\n",
        "while n>0:\n",
        "  print(n)\n",
        "  n-=1"
      ],
      "execution_count": null,
      "outputs": [
        {
          "output_type": "stream",
          "text": [
            "enter value of n:6\n",
            "6\n",
            "5\n",
            "4\n",
            "3\n",
            "2\n",
            "1\n"
          ],
          "name": "stdout"
        }
      ]
    },
    {
      "cell_type": "markdown",
      "metadata": {
        "id": "-zhBgnkcMugZ"
      },
      "source": [
        "#Exercise-*4*\n",
        "4a) find the sum of all the below 2 millon"
      ]
    },
    {
      "cell_type": "code",
      "metadata": {
        "colab": {
          "base_uri": "https://localhost:8080/"
        },
        "id": "Osm613l4NRzS",
        "outputId": "83dc75c3-db21-4f76-87c0-50a096eec94f"
      },
      "source": [
        "\n",
        "ls=[]\n",
        "total = 0\n",
        "\n",
        "for i in range(0,2000000):\n",
        "    ls.append(i)\n",
        "\n",
        "for i in range(2,2000000):\n",
        "    for x in range(2,int(float(2000000/i)+0.5)):\n",
        "        ls[int(float(i*x))] = 0\n",
        "ls[1] = 0\n",
        "\n",
        "for j in range(0,2000000):\n",
        "    total += ls[j]\n",
        "print(total)\n",
        "\n",
        "\n"
      ],
      "execution_count": null,
      "outputs": [
        {
          "output_type": "stream",
          "text": [
            "142941826598\n"
          ],
          "name": "stdout"
        }
      ]
    },
    {
      "cell_type": "markdown",
      "metadata": {
        "id": "7fHA1w_-VS4x"
      },
      "source": [
        "4b)Each new term in the fibonacci sequence is generated by adding the previous two terms,by starting with 1 and 2,the first 10 terms will be:1,2,3,5,8,13,21,34,55,89....."
      ]
    },
    {
      "cell_type": "code",
      "metadata": {
        "colab": {
          "base_uri": "https://localhost:8080/"
        },
        "id": "_-EYozmAWu1a",
        "outputId": "2fc95f39-2fad-4adb-ddb3-dc0995b910c2"
      },
      "source": [
        "n=int(input(\"enter the value of n:\"))\n",
        "a=0\n",
        "b=1\n",
        "c=a+b\n",
        "while c<n:\n",
        "  print(c,end='\\n')\n",
        "  a=b\n",
        "  b=c\n",
        "  c=a+b\n"
      ],
      "execution_count": null,
      "outputs": [
        {
          "output_type": "stream",
          "text": [
            "enter the value of n:1000\n",
            "1\n",
            "2\n",
            "3\n",
            "5\n",
            "8\n",
            "13\n",
            "21\n",
            "34\n",
            "55\n",
            "89\n",
            "144\n",
            "233\n",
            "377\n",
            "610\n",
            "987\n"
          ],
          "name": "stdout"
        }
      ]
    },
    {
      "cell_type": "markdown",
      "metadata": {
        "id": "GJIm8RdcYPts"
      },
      "source": [
        "4c) by consedering the terms in the fibannacci sequence whose values do not exceed 4 million .find the sum of the even valued terms"
      ]
    },
    {
      "cell_type": "code",
      "metadata": {
        "colab": {
          "base_uri": "https://localhost:8080/"
        },
        "id": "RKTKTfUSY8pA",
        "outputId": "c28df780-1c85-4c8e-9377-19459dcdd25f"
      },
      "source": [
        "n=int(input(\"Enter a Value of n:\"))\n",
        "a=0\n",
        "b=1\n",
        "c=a+b\n",
        "sum=0\n",
        "print(\"Even numbers in fibonacci series:\",end=\"\")\n",
        "while c<n:\n",
        "  if c%2==0:\n",
        "    print(c,end='\\t')\n",
        "    sum+=c\n",
        "  a=b\n",
        "  b=c\n",
        "  c=a+b\n",
        "print(\"\\n sum of fibonacci series is:\",sum)"
      ],
      "execution_count": 2,
      "outputs": [
        {
          "output_type": "stream",
          "text": [
            "Enter a Value of n:13\n",
            "Even numbers in fibonacci series:2\t8\t\n",
            " sum of fibonacci series is: 10\n"
          ],
          "name": "stdout"
        }
      ]
    },
    {
      "cell_type": "markdown",
      "metadata": {
        "id": "dennaAlbeMRl"
      },
      "source": [
        "#Exercise-5\n",
        "5a) Write a program to count the number of characters in the string and store them in a dictionary datastructure"
      ]
    },
    {
      "cell_type": "code",
      "metadata": {
        "colab": {
          "base_uri": "https://localhost:8080/"
        },
        "id": "GsFy_tmdeqdD",
        "outputId": "b3b7797e-edf5-4fad-cc07-f8c551f40718"
      },
      "source": [
        "name=input(\"enter a name\")\n",
        "dic={}\n",
        "\n",
        "for ch in name:\n",
        "    keys=dic.keys()\n",
        "\n",
        "    if (ch in keys):\n",
        "        dic[ch]=dic[ch]+1\n",
        "    else:\n",
        "        dic[ch]=1\n",
        "print(\"dictionary is\",dic)"
      ],
      "execution_count": 3,
      "outputs": [
        {
          "output_type": "stream",
          "text": [
            "enter a namebhavana\n",
            "dictionary is {'b': 1, 'h': 1, 'a': 3, 'v': 1, 'n': 1}\n"
          ],
          "name": "stdout"
        }
      ]
    },
    {
      "cell_type": "markdown",
      "metadata": {
        "id": "te63YODOhoh4"
      },
      "source": [
        "5b)write a program to use split and join method in the string and trace a birthday with   a dictionary datastructure"
      ]
    },
    {
      "cell_type": "code",
      "metadata": {
        "colab": {
          "base_uri": "https://localhost:8080/"
        },
        "id": "2xm9C4VZibSZ",
        "outputId": "f768d488-22e5-4038-c214-fa048c7c0a9a"
      },
      "source": [
        "dob={\"bunny\":\"26-04-202\",\"yk\":\"10-04-2000\"}\n",
        "name=input(\"which person DOB you want:\")\n",
        "l=name.split()\n",
        "birth=\"\"\n",
        "for i in l:\n",
        "  if i in dob.keys():\n",
        "    pers=i\n",
        "    print(\"\".join([pers,\"Birthday is\",dob[pers]]))"
      ],
      "execution_count": null,
      "outputs": [
        {
          "output_type": "stream",
          "text": [
            "which person DOB you want:bunny\n",
            "bunnyBirthday is26-04-202\n"
          ],
          "name": "stdout"
        }
      ]
    },
    {
      "cell_type": "markdown",
      "metadata": {
        "id": "TcORxQNvmj56"
      },
      "source": [
        "#Exercise-6\n",
        "6a) write a program combines lists that combines these lists into a dictionary"
      ]
    },
    {
      "cell_type": "code",
      "metadata": {
        "colab": {
          "base_uri": "https://localhost:8080/"
        },
        "id": "4zbFj2vvoH4Y",
        "outputId": "b49b059b-4f9c-4202-dc09-b30af7ac6fb0"
      },
      "source": [
        "subj=[\"daa\",\"os\",\"dbms\",\"p&s\",\"se\"]\n",
        "marks=[84,93,92,91,90]\n",
        "print(subj)\n",
        "print(marks)\n",
        "dic=dict(zip(subj,marks))\n",
        "print(dic)"
      ],
      "execution_count": null,
      "outputs": [
        {
          "output_type": "stream",
          "text": [
            "['daa', 'os', 'dbms', 'p&s', 'se']\n",
            "[84, 93, 92, 91, 90]\n",
            "{'daa': 84, 'os': 93, 'dbms': 92, 'p&s': 91, 'se': 90}\n"
          ],
          "name": "stdout"
        }
      ]
    },
    {
      "cell_type": "markdown",
      "metadata": {
        "id": "gWDSZSsrpNCi"
      },
      "source": [
        "6b)write a program to count frequency of characters in a given file .can you use character frequency of tall whether the given file is a python program  file,cprogram file or a textfile"
      ]
    },
    {
      "cell_type": "code",
      "metadata": {
        "colab": {
          "base_uri": "https://localhost:8080/"
        },
        "id": "sct2hVJnpzxk",
        "outputId": "b2e57ec8-bf47-4d1e-8fa2-9b0f8b9d3efa"
      },
      "source": [
        "f=open(\"abc.txt\",\"w\")\n",
        "f.write(\"welcome to python programming\")\n",
        "f.close()\n",
        "filetypes=['.py','.c','.txt']\n",
        "fn=input(\"enter the file name\")\n",
        "f=open(fn,\"r\")\n",
        "count=dict()\n",
        "for ft in filetypes:\n",
        "  if(ft in fn):\n",
        "     if(ft=='.py'):\n",
        "       print(\"python file\")\n",
        "     elif(ft=='.c'):\n",
        "         print(\"c file\")\n",
        "     elif(ft=='.txt'):\n",
        "         print(\"text file\")\n",
        "for line in f:\n",
        "     for ch in line:\n",
        "         if ch in count:\n",
        "             count[ch]=count[ch]+1\n",
        "         else:\n",
        "             count[ch]=1\n",
        "print(count)\n",
        "f.close()"
      ],
      "execution_count": 4,
      "outputs": [
        {
          "output_type": "stream",
          "text": [
            "enter the file nameabc.txt\n",
            "text file\n",
            "{'w': 1, 'e': 2, 'l': 1, 'c': 1, 'o': 4, 'm': 3, ' ': 3, 't': 2, 'p': 2, 'y': 1, 'h': 1, 'n': 2, 'r': 2, 'g': 2, 'a': 1, 'i': 1}\n"
          ],
          "name": "stdout"
        }
      ]
    },
    {
      "cell_type": "markdown",
      "metadata": {
        "id": "kIZo03-cyPLi"
      },
      "source": [
        "#Exercise-7\n",
        "7a) write a program to print each line of a file in reverse oder"
      ]
    },
    {
      "cell_type": "code",
      "metadata": {
        "colab": {
          "base_uri": "https://localhost:8080/"
        },
        "id": "uyTIPStjyxXm",
        "outputId": "ab19cabc-477c-4654-bc0a-58eb7111718c"
      },
      "source": [
        "f=open(\"abc.txt\",\"w\")\n",
        "f.write(\"welcome to python programming\")\n",
        "f.close()\n",
        "obj=open(\"abc.txt\",\"r\")\n",
        "if obj:\n",
        "    st=obj.read()\n",
        "    print(\"file content is: \\n\",st)\n",
        "obj.close()\n",
        "\n",
        "print()\n",
        "lines=st.split('\\n')\n",
        "for ln in lines:\n",
        "    i=len(ln)-1\n",
        "    while(i>=0):\n",
        "       print(ln[i],end='')\n",
        "       i=i-1\n",
        "    print()"
      ],
      "execution_count": 5,
      "outputs": [
        {
          "output_type": "stream",
          "text": [
            "file content is: \n",
            " welcome to python programming\n",
            "\n",
            "gnimmargorp nohtyp ot emoclew\n"
          ],
          "name": "stdout"
        }
      ]
    },
    {
      "cell_type": "markdown",
      "metadata": {
        "id": "tBkkoQqz0wEU"
      },
      "source": [
        "7b) write a program to compute the number of characters ,words and lines in a file"
      ]
    },
    {
      "cell_type": "code",
      "metadata": {
        "colab": {
          "base_uri": "https://localhost:8080/"
        },
        "id": "jft99zY51CXM",
        "outputId": "7fc00826-3c85-41cf-effb-a7217edc3619"
      },
      "source": [
        "f=open(\"abc.txt\",\"w\")\n",
        "f.write(\"welcome to python programming\")\n",
        "f.close()\n",
        "obj=open(\"abc.txt\",\"r\")\n",
        "nc=nw=nl=0\n",
        "print(\"File content is :\\n\")\n",
        "for line in obj:\n",
        "    ln=line.strip(\"\\n\")\n",
        "    print(ln)\n",
        "    words=ln.split()\n",
        "    print(words)\n",
        "    nl+=1\n",
        "    nw+=len(words)\n",
        "    nc+=len(line)\n",
        "obj.close()\n",
        "print(\"Number of characterers in a file is:\",nc)\n",
        "print(\"Number of words in a file is:\",nw)\n",
        "print(\"number of lines in a file is:\",nl)\n"
      ],
      "execution_count": 6,
      "outputs": [
        {
          "output_type": "stream",
          "text": [
            "File content is :\n",
            "\n",
            "welcome to python programming\n",
            "['welcome', 'to', 'python', 'programming']\n",
            "Number of characterers in a file is: 29\n",
            "Number of words in a file is: 4\n",
            "number of lines in a file is: 1\n"
          ],
          "name": "stdout"
        }
      ]
    },
    {
      "cell_type": "markdown",
      "metadata": {
        "id": "YymVSrKe3l1Z"
      },
      "source": [
        "#Exercise-8\n",
        "8a)Write a function ball collide that takes two balls as parameters and computes if they are colliding .your function should return a boolean representing whether or not the balls are collinding"
      ]
    },
    {
      "cell_type": "code",
      "metadata": {
        "id": "Qrq6F7y94naR",
        "colab": {
          "base_uri": "https://localhost:8080/"
        },
        "outputId": "b24c3b27-7c7b-4d12-f411-fd74e60d6543"
      },
      "source": [
        "import math\n",
        "\n",
        "def collide(ball_tup1,ball_tup2):\n",
        "    x1,y1,r1=ball_tup1\n",
        "    x2,y2,r2=ball_tup2\n",
        "    print(\"Ball-1=\",ball_tup1)\n",
        "    print(x1,y1,r1,sep=' ')\n",
        "    print(\"Ball-2+\",ball_tup2)\n",
        "    print(x2,y2,r2,sep=' ')\n",
        "    d=math.sqrt((x2-x1)**2+(y2-y1)**2)\n",
        "    print(\"centriod distance of two balls:\",d)\n",
        "    if d<=r1+r2:\n",
        "        print(\"Balls are collide..!\")\n",
        "    else:\n",
        "        print(\"Balls are not collide..!\")\n",
        "b1=(-2,-4,-3)\n",
        "b2=(4,6,3)\n",
        "collide(b1,b2)"
      ],
      "execution_count": 7,
      "outputs": [
        {
          "output_type": "stream",
          "text": [
            "Ball-1= (-2, -4, -3)\n",
            "-2 -4 -3\n",
            "Ball-2+ (4, 6, 3)\n",
            "4 6 3\n",
            "centriod distance of two balls: 11.661903789690601\n",
            "Balls are not collide..!\n"
          ],
          "name": "stdout"
        }
      ]
    },
    {
      "cell_type": "markdown",
      "metadata": {
        "id": "mJq11Vgk7q9U"
      },
      "source": [
        "8b) find mean ,median ,mode for the given set of numbers in a list"
      ]
    },
    {
      "cell_type": "code",
      "metadata": {
        "id": "Ts19vf6t76HH",
        "colab": {
          "base_uri": "https://localhost:8080/",
          "height": 350
        },
        "outputId": "f80c4cd8-9107-4e74-8b2b-a067352a3ed9"
      },
      "source": [
        "def list_mean(num_list):\n",
        "   return sum(num_list)/len(num_list)\n",
        "\n",
        "def list_median(num_list):\n",
        "    num_list.sort()\n",
        "    n=len(num_list)\n",
        "    mid=n//2\n",
        "    if(n%2==1):\n",
        "        return num_list(mid)\n",
        "    else:\n",
        "        mid\n",
        "        return (num_list[mid-1]+num_list[mid]/2)\n",
        "lst=[1,1,2,2,2,3,4,5,3,3]\n",
        "list_mean(lst)\n",
        "print(\"Mean of the given list is:\",list_mean(lst))\n",
        "print(\"Median of the given list is:\",list_median(lst))\n"
      ],
      "execution_count": 9,
      "outputs": [
        {
          "output_type": "error",
          "ename": "TypeError",
          "evalue": "ignored",
          "traceback": [
            "\u001b[0;31m---------------------------------------------------------------------------\u001b[0m",
            "\u001b[0;31mTypeError\u001b[0m                                 Traceback (most recent call last)",
            "\u001b[0;32m<ipython-input-9-80c46e05b76a>\u001b[0m in \u001b[0;36m<module>\u001b[0;34m()\u001b[0m\n\u001b[1;32m     12\u001b[0m         \u001b[0;32mreturn\u001b[0m \u001b[0;34m(\u001b[0m\u001b[0mnum_list\u001b[0m\u001b[0;34m[\u001b[0m\u001b[0mmid\u001b[0m\u001b[0;34m-\u001b[0m\u001b[0;36m1\u001b[0m\u001b[0;34m]\u001b[0m\u001b[0;34m+\u001b[0m\u001b[0mnum_list\u001b[0m\u001b[0;34m[\u001b[0m\u001b[0mmid\u001b[0m\u001b[0;34m]\u001b[0m\u001b[0;34m/\u001b[0m\u001b[0;36m2\u001b[0m\u001b[0;34m)\u001b[0m\u001b[0;34m\u001b[0m\u001b[0;34m\u001b[0m\u001b[0m\n\u001b[1;32m     13\u001b[0m \u001b[0mlst\u001b[0m\u001b[0;34m=\u001b[0m\u001b[0;34m[\u001b[0m\u001b[0;36m1\u001b[0m\u001b[0;34m,\u001b[0m\u001b[0;36m1\u001b[0m\u001b[0;34m,\u001b[0m\u001b[0;36m2\u001b[0m\u001b[0;34m,\u001b[0m\u001b[0;36m2\u001b[0m\u001b[0;34m,\u001b[0m\u001b[0;36m2\u001b[0m\u001b[0;34m,\u001b[0m\u001b[0;36m3\u001b[0m\u001b[0;34m,\u001b[0m\u001b[0;36m4\u001b[0m\u001b[0;34m,\u001b[0m\u001b[0;36m5\u001b[0m\u001b[0;34m,\u001b[0m\u001b[0;36m3\u001b[0m\u001b[0;34m,\u001b[0m\u001b[0;36m3\u001b[0m\u001b[0;34m]\u001b[0m\u001b[0;34m\u001b[0m\u001b[0;34m\u001b[0m\u001b[0m\n\u001b[0;32m---> 14\u001b[0;31m \u001b[0mlist_mean\u001b[0m\u001b[0;34m(\u001b[0m\u001b[0mlst\u001b[0m\u001b[0;34m)\u001b[0m\u001b[0;34m\u001b[0m\u001b[0;34m\u001b[0m\u001b[0m\n\u001b[0m\u001b[1;32m     15\u001b[0m \u001b[0mprint\u001b[0m\u001b[0;34m(\u001b[0m\u001b[0;34m\"Mean of the given list is:\"\u001b[0m\u001b[0;34m,\u001b[0m\u001b[0mlist_mean\u001b[0m\u001b[0;34m(\u001b[0m\u001b[0mlst\u001b[0m\u001b[0;34m)\u001b[0m\u001b[0;34m)\u001b[0m\u001b[0;34m\u001b[0m\u001b[0;34m\u001b[0m\u001b[0m\n\u001b[1;32m     16\u001b[0m \u001b[0mprint\u001b[0m\u001b[0;34m(\u001b[0m\u001b[0;34m\"Median of the given list is:\"\u001b[0m\u001b[0;34m,\u001b[0m\u001b[0mlist_median\u001b[0m\u001b[0;34m(\u001b[0m\u001b[0mlst\u001b[0m\u001b[0;34m)\u001b[0m\u001b[0;34m)\u001b[0m\u001b[0;34m\u001b[0m\u001b[0;34m\u001b[0m\u001b[0m\n",
            "\u001b[0;32m<ipython-input-9-80c46e05b76a>\u001b[0m in \u001b[0;36mlist_mean\u001b[0;34m(num_list)\u001b[0m\n\u001b[1;32m      1\u001b[0m \u001b[0;32mdef\u001b[0m \u001b[0mlist_mean\u001b[0m\u001b[0;34m(\u001b[0m\u001b[0mnum_list\u001b[0m\u001b[0;34m)\u001b[0m\u001b[0;34m:\u001b[0m\u001b[0;34m\u001b[0m\u001b[0;34m\u001b[0m\u001b[0m\n\u001b[0;32m----> 2\u001b[0;31m    \u001b[0;32mreturn\u001b[0m \u001b[0msum\u001b[0m\u001b[0;34m(\u001b[0m\u001b[0mnum_list\u001b[0m\u001b[0;34m)\u001b[0m\u001b[0;34m/\u001b[0m\u001b[0mlen\u001b[0m\u001b[0;34m(\u001b[0m\u001b[0mnum_list\u001b[0m\u001b[0;34m)\u001b[0m\u001b[0;34m\u001b[0m\u001b[0;34m\u001b[0m\u001b[0m\n\u001b[0m\u001b[1;32m      3\u001b[0m \u001b[0;34m\u001b[0m\u001b[0m\n\u001b[1;32m      4\u001b[0m \u001b[0;32mdef\u001b[0m \u001b[0mlist_median\u001b[0m\u001b[0;34m(\u001b[0m\u001b[0mnum_list\u001b[0m\u001b[0;34m)\u001b[0m\u001b[0;34m:\u001b[0m\u001b[0;34m\u001b[0m\u001b[0;34m\u001b[0m\u001b[0m\n\u001b[1;32m      5\u001b[0m     \u001b[0mnum_list\u001b[0m\u001b[0;34m.\u001b[0m\u001b[0msort\u001b[0m\u001b[0;34m(\u001b[0m\u001b[0;34m)\u001b[0m\u001b[0;34m\u001b[0m\u001b[0;34m\u001b[0m\u001b[0m\n",
            "\u001b[0;31mTypeError\u001b[0m: 'int' object is not callable"
          ]
        }
      ]
    },
    {
      "cell_type": "markdown",
      "metadata": {
        "id": "YXbduF3a_xFJ"
      },
      "source": [
        ""
      ]
    },
    {
      "cell_type": "markdown",
      "metadata": {
        "id": "sKxkh8BpNGk8"
      },
      "source": [
        "#Exercise-9\n",
        "9a)write a function nearly equal to test whether two strings are nearly equal.two strings a and b are nearly equal when a can be generated by a single mutation on b"
      ]
    },
    {
      "cell_type": "code",
      "metadata": {
        "id": "CWj7n1YxO2qM",
        "colab": {
          "base_uri": "https://localhost:8080/"
        },
        "outputId": "d514cabb-bcfa-488a-e6d5-61b5cf80ea63"
      },
      "source": [
        "def nearly_eq(str1,str2):\n",
        "    count=0\n",
        "    i=j=0\n",
        "    while(i<len(str1)and j<len(str2)):\n",
        "        if(str1[i]!=str2[j]):\n",
        "            count+=1\n",
        "            if(len(str1)>len(str2)):\n",
        "                i+=1\n",
        "            elif(len(str1)==len(str2)):\n",
        "                pass\n",
        "            else:\n",
        "                i-=1\n",
        "        if(count>1):\n",
        "            return False\n",
        "        i+=1\n",
        "        j+=1\n",
        "    if(count<2):\n",
        "        return True\n",
        "s1=input(\"enter string1:  \")\n",
        "s2=input(\"enter string2:  \")\n",
        "bln=nearly_eq(s1,s2)\n",
        "if(bln):\n",
        "    print(\"Strings are nearly equal.\")\n",
        "else:\n",
        "    print(\"string are not equal\")"
      ],
      "execution_count": 10,
      "outputs": [
        {
          "output_type": "stream",
          "text": [
            "enter string1:  satya\n",
            "enter string2:  bhavana\n",
            "string are not equal\n"
          ],
          "name": "stdout"
        }
      ]
    },
    {
      "cell_type": "markdown",
      "metadata": {
        "id": "TEIozLUgRisg"
      },
      "source": [
        "9b) write a function dup to find all duplicates in the list"
      ]
    },
    {
      "cell_type": "code",
      "metadata": {
        "colab": {
          "base_uri": "https://localhost:8080/"
        },
        "id": "I7CmhWxYRzfR",
        "outputId": "70b19283-997d-40de-87ed-5628d58a1ac7"
      },
      "source": [
        "l=[1,2,3,4,5,2,3,4,7,9,5]\n",
        "l1=[]\n",
        "for i in l:\n",
        "    if i not in l1:\n",
        "        l1.append(i)\n",
        "    else:\n",
        "        print(i,end=' ')"
      ],
      "execution_count": null,
      "outputs": [
        {
          "output_type": "stream",
          "text": [
            "2 3 4 5 "
          ],
          "name": "stdout"
        }
      ]
    },
    {
      "cell_type": "markdown",
      "metadata": {
        "id": "9JDTHMMUUQQE"
      },
      "source": [
        "9c)Write a function unique to find all the unique elements of  a list"
      ]
    },
    {
      "cell_type": "code",
      "metadata": {
        "colab": {
          "base_uri": "https://localhost:8080/"
        },
        "id": "9VNhJB63UnU7",
        "outputId": "5872c1a0-b4d1-42a1-87a6-f7f33353358f"
      },
      "source": [
        "import numpy as np\n",
        "def unique(list1):\n",
        "    x = np.array(list1)\n",
        "    print(np.unique(x))\n",
        "     \n",
        " \n",
        "list1 = [10, 20, 10, 30, 40, 40]\n",
        "print(\"the unique values from 1st list is\")\n",
        "unique(list1)\n",
        " \n",
        " \n",
        "list2 =[1, 2, 1, 1, 3, 4, 3, 3, 5]\n",
        "print(\"\\nthe unique values from 2nd list is\")\n",
        "unique(list2)"
      ],
      "execution_count": null,
      "outputs": [
        {
          "output_type": "stream",
          "text": [
            "the unique values from 1st list is\n",
            "[10 20 30 40]\n",
            "\n",
            "the unique values from 2nd list is\n",
            "[1 2 3 4 5]\n"
          ],
          "name": "stdout"
        }
      ]
    },
    {
      "cell_type": "markdown",
      "metadata": {
        "id": "A_JIQ4trU-ku"
      },
      "source": [
        "#Exercise-10\n",
        "a)write a function cumulative product to compute cumulative product of a list of numbers"
      ]
    },
    {
      "cell_type": "code",
      "metadata": {
        "id": "gm-bpmucVTS3",
        "colab": {
          "base_uri": "https://localhost:8080/"
        },
        "outputId": "ef51947b-56d8-45e9-fc5c-a9787536a8ff"
      },
      "source": [
        "def cum_prod(numlist):\n",
        "    prod=1\n",
        "    temp=[]\n",
        "    for i in numlist:\n",
        "        prod*=i\n",
        "        temp.append(prod)\n",
        "    return temp\n",
        "\n",
        "lst=[1,2,4,5,3]\n",
        "print(\"Given list is: \",lst)\n",
        "print(\"Cummulative product is : \",cum_prod(lst))"
      ],
      "execution_count": 11,
      "outputs": [
        {
          "output_type": "stream",
          "text": [
            "Given list is:  [1, 2, 4, 5, 3]\n",
            "Cummulative product is :  [1, 2, 8, 40, 120]\n"
          ],
          "name": "stdout"
        }
      ]
    },
    {
      "cell_type": "markdown",
      "metadata": {
        "id": "BVOoWJgUYeor"
      },
      "source": [
        "10b)write a function reverse to reverse a list.without using the reverse function"
      ]
    },
    {
      "cell_type": "code",
      "metadata": {
        "colab": {
          "base_uri": "https://localhost:8080/"
        },
        "id": "WxLyp2WHYwLM",
        "outputId": "21fc69ba-8e2c-4491-8c93-7f35142bbf59"
      },
      "source": [
        "number = int(input(\"Enter the integer number: \"))  \n",
        "  \n",
        "  \n",
        "revs_number = 0  \n",
        "  \n",
        "while (number > 0):  \n",
        "  \n",
        "    remainder = number % 10  \n",
        "    revs_number = (revs_number * 10) + remainder  \n",
        "    number = number // 10  \n",
        "  \n",
        "  \n",
        "print(\"The reverse number is : {}\".format(revs_number))  "
      ],
      "execution_count": null,
      "outputs": [
        {
          "output_type": "stream",
          "text": [
            "Enter the integer number: 12345\n",
            "The reverse number is : 54321\n"
          ],
          "name": "stdout"
        }
      ]
    },
    {
      "cell_type": "markdown",
      "metadata": {
        "id": "aH47q6SoZg9U"
      },
      "source": [
        "10c)write a function to compute gcd ,lcm of two numbers .each function shouldnot exceed  one line"
      ]
    },
    {
      "cell_type": "code",
      "metadata": {
        "colab": {
          "base_uri": "https://localhost:8080/"
        },
        "id": "nwExKb_8Z3YA",
        "outputId": "c30eed83-1c17-4ba5-b211-97a8232d40b0"
      },
      "source": [
        "gcd=lambda a,b:a if b==0 else gcd(a,a%b)\n",
        "lcm=lambda a,b:(a*b)/gcd(a,b)\n",
        "x=4\n",
        "y=24\n",
        "print(\"the given nmbers\",x,y)\n",
        "print(\"gcd is:\",gcd(x,y))\n",
        "print(\"lcm is\",lcm(x,y))"
      ],
      "execution_count": null,
      "outputs": [
        {
          "output_type": "stream",
          "text": [
            "the given nmbers 4 24\n",
            "gcd is: 4\n",
            "lcm is 24.0\n"
          ],
          "name": "stdout"
        }
      ]
    },
    {
      "cell_type": "markdown",
      "metadata": {
        "id": "KJdfJwp1aykA"
      },
      "source": [
        "#Exercise-11\n",
        "11a) write a program that defines a matrix and prints"
      ]
    },
    {
      "cell_type": "code",
      "metadata": {
        "colab": {
          "base_uri": "https://localhost:8080/"
        },
        "id": "DOVK5UREbFz9",
        "outputId": "a5633a9e-426a-4fc9-c31f-7ffa25220962"
      },
      "source": [
        "matA=[[]]\n",
        "rows=int(input(\"enter  row size of matrix\"))\n",
        "col=int(input(\"enter column size of matrix\"))\n",
        "matA=[[int(input(\"enter[%d,%d] values :\"%(i,j)))for j in range(col)]for i in range(rows)]\n",
        "print(\"matrix is\")\n",
        "for i in range(rows):\n",
        "  for j in range(col):\n",
        "    print(matA[i][j],end='\\t')\n",
        "    print()"
      ],
      "execution_count": null,
      "outputs": [
        {
          "output_type": "stream",
          "text": [
            "enter  row size of matrix3\n",
            "enter column size of matrix2\n",
            "enter[0,0] values :7\n",
            "enter[0,1] values :2\n",
            "enter[1,0] values :8\n",
            "enter[1,1] values :3\n",
            "enter[2,0] values :8\n",
            "enter[2,1] values :1\n",
            "matrix is\n",
            "7\t\n",
            "2\t\n",
            "8\t\n",
            "3\t\n",
            "8\t\n",
            "1\t\n"
          ],
          "name": "stdout"
        }
      ]
    },
    {
      "cell_type": "markdown",
      "metadata": {
        "id": "Uz-MMaVdc71Q"
      },
      "source": [
        "11b)write a program to perform addition of two square matrices"
      ]
    },
    {
      "cell_type": "code",
      "metadata": {
        "colab": {
          "base_uri": "https://localhost:8080/"
        },
        "id": "Ye5pDHmbdITn",
        "outputId": "9ec22d3d-aa89-492f-d172-c369f8041c13"
      },
      "source": [
        "X = [[12,7,3],\n",
        "    [4 ,5,6],\n",
        "    [7 ,8,9]]\n",
        "\n",
        "Y = [[5,8,1],\n",
        "    [6,7,3],\n",
        "    [4,5,9]]\n",
        "\n",
        "result = [[X[i][j] + Y[i][j]  for j in range(len(X[0]))] for i in range(len(X))]\n",
        "\n",
        "for r in result:\n",
        "   print(r)"
      ],
      "execution_count": null,
      "outputs": [
        {
          "output_type": "stream",
          "text": [
            "[17, 15, 4]\n",
            "[10, 12, 9]\n",
            "[11, 13, 18]\n"
          ],
          "name": "stdout"
        }
      ]
    },
    {
      "cell_type": "markdown",
      "metadata": {
        "id": "4B_QxP3hd_fn"
      },
      "source": [
        "11c)write a program to perform multiplication of two square matrices"
      ]
    },
    {
      "cell_type": "code",
      "metadata": {
        "colab": {
          "base_uri": "https://localhost:8080/"
        },
        "id": "0yusnJEpeGea",
        "outputId": "0ffaaa71-55c0-44bd-8cbb-6b9fac6ede6a"
      },
      "source": [
        "\n",
        "X = [[12,7,3],\n",
        "    [4 ,5,6],\n",
        "    [7 ,8,9]]\n",
        "\n",
        "Y = [[5,8,1,2],\n",
        "    [6,7,3,0],\n",
        "    [4,5,9,1]]\n",
        "result = [[0,0,0,0],\n",
        "         [0,0,0,0],\n",
        "         [0,0,0,0]]\n",
        "for i in range(len(X)):\n",
        "   for j in range(len(Y[0])):\n",
        "       for k in range(len(Y)):\n",
        "           result[i][j] += X[i][k] * Y[k][j]\n",
        "\n",
        "for r in result:\n",
        "   print(r)"
      ],
      "execution_count": null,
      "outputs": [
        {
          "output_type": "stream",
          "text": [
            "[114, 160, 60, 27]\n",
            "[74, 97, 73, 14]\n",
            "[119, 157, 112, 23]\n"
          ],
          "name": "stdout"
        }
      ]
    },
    {
      "cell_type": "markdown",
      "metadata": {
        "id": "JrzW_21oegB0"
      },
      "source": [
        "#Exercise-13\n",
        "13a)class variables and instance variables and illustration of the self-variable \n",
        "i)Robot"
      ]
    },
    {
      "cell_type": "code",
      "metadata": {
        "id": "RShrOf4UgbQ1",
        "colab": {
          "base_uri": "https://localhost:8080/"
        },
        "outputId": "2b1ae814-832c-4819-b181-121d8dfcb25c"
      },
      "source": [
        "class Robot:\n",
        "  what=\"Machine\"\n",
        "  name=\"Chitti\"\n",
        "  version=1.0\n",
        "  speed=\"1THZ\"\n",
        "  memory=\"1ZB\"\n",
        "\n",
        "  def update(upd):\n",
        "   upd.version=2.0\n",
        "   upd.speed=\"2THz\"\n",
        "   upd.memory=\"2ZB\"\n",
        "\n",
        "  def disp(self):\n",
        "    print(\"my self is a \",robj.what)\n",
        "    print(\"myname is a \",robj.name)\n",
        "    print(\"version: \",robj.version)\n",
        "    print(\"speed: \",robj.speed)\n",
        "    print(\"memory: \",robj.memory)\n",
        "\n",
        "robj=Robot()\n",
        "robj.disp()\n",
        "\n",
        "print(\"------update------\")\n",
        "robj.update()\n",
        "robj.disp()"
      ],
      "execution_count": 12,
      "outputs": [
        {
          "output_type": "stream",
          "text": [
            "my self is a  Machine\n",
            "myname is a  Chitti\n",
            "version:  1.0\n",
            "speed:  1THZ\n",
            "memory:  1ZB\n",
            "------update------\n",
            "my self is a  Machine\n",
            "myname is a  Chitti\n",
            "version:  2.0\n",
            "speed:  2THz\n",
            "memory:  2ZB\n"
          ],
          "name": "stdout"
        }
      ]
    },
    {
      "cell_type": "code",
      "metadata": {
        "colab": {
          "base_uri": "https://localhost:8080/"
        },
        "id": "kKxkvZw_khqB",
        "outputId": "9d336f58-0a7e-429c-f25e-ff6723537d31"
      },
      "source": [
        "class ATM:\n",
        "  def __init__(self):\n",
        "    self.balance=0\n",
        "    \n",
        "  def enquire(self):\n",
        "    print(\"balance: \",self.balance)\n",
        "\n",
        "  def deposit(self):\n",
        "       amount=int(input(\"enter the deposit amount:\"))\n",
        "       self.balance+=amount\n",
        "       self.enquire()\n",
        "\n",
        "  def withdraw(self):\n",
        "      amount=int(input(\"enter the withdrawn amount:\"))\n",
        "      if self.balance<amount:\n",
        "         print(\"insufficient balance....\")\n",
        "      else:\n",
        "         self.balance-=amount\n",
        "         self.enquire()\n",
        "\n",
        "aobj=ATM()\n",
        "while(True):\n",
        "  print(\"*****MENU*****\")\n",
        "  print(\"1.deposit\")\n",
        "  print(\"2.withdraw\")\n",
        "  print(\"3.Balance\")\n",
        "  print(\"0 .EXIT\")\n",
        "  ch=int(input(\"enter your choice\"))\n",
        "  if ch==0:\n",
        "    break\n",
        "  elif ch==1:\n",
        "    aobj.deposit()\n",
        "  elif ch==2:\n",
        "    aobj.withdraw()\n",
        "  elif ch==3:\n",
        "    aobj.enquire()\n",
        "  else:\n",
        "    print(\"Invalid choice\")\n",
        "    pass"
      ],
      "execution_count": null,
      "outputs": [
        {
          "output_type": "stream",
          "text": [
            "*****MENU*****\n",
            "1.deposit\n",
            "2.withdraw\n",
            "3.Balance\n",
            "0 .EXIT\n",
            "enter your choice1\n",
            "enter the deposit amount:1000\n",
            "balance:  1000\n",
            "*****MENU*****\n",
            "1.deposit\n",
            "2.withdraw\n",
            "3.Balance\n",
            "0 .EXIT\n",
            "enter your choice2\n",
            "enter the withdrawn amount:400\n",
            "balance:  600\n",
            "*****MENU*****\n",
            "1.deposit\n",
            "2.withdraw\n",
            "3.Balance\n",
            "0 .EXIT\n",
            "enter your choice1\n",
            "enter the deposit amount:100\n",
            "balance:  700\n",
            "*****MENU*****\n",
            "1.deposit\n",
            "2.withdraw\n",
            "3.Balance\n",
            "0 .EXIT\n",
            "enter your choice4\n",
            "Invalid choice\n",
            "*****MENU*****\n",
            "1.deposit\n",
            "2.withdraw\n",
            "3.Balance\n",
            "0 .EXIT\n"
          ],
          "name": "stdout"
        }
      ]
    },
    {
      "cell_type": "markdown",
      "metadata": {
        "id": "4bbLzhiuC6u3"
      },
      "source": [
        "#Exercise - 14 GUI, Graphics\n",
        "1. Write a GUI for an Expression Calculator using tk\n",
        "\n",
        "2. Write a program to implement the following figures using turtle"
      ]
    },
    {
      "cell_type": "code",
      "metadata": {
        "id": "1hYUc94IC-nJ"
      },
      "source": [
        "import turtle\n",
        "c=[\"red\",\"green\",\"blue\"]\n",
        "i=0\n",
        "turtle.pensize(5)\n",
        "\n",
        "for angle in range(0,360,30):\n",
        "  if i>2:\n",
        "    i=0\n",
        "  turtle.color(c[i])\n",
        "  turtle.seth(angle)\n",
        "  turtle.circle(50)\n",
        "  i+=1"
      ],
      "execution_count": null,
      "outputs": []
    },
    {
      "cell_type": "code",
      "metadata": {
        "id": "GjUkoUqjDRPm"
      },
      "source": [
        "\n",
        "import turtle\n",
        "turtle.pensize(1)\n",
        "\n",
        "for i in range(36):\n",
        "  for j in range(4):\n",
        "      turtle.forward(70)\n",
        "      turtle.left(90)\n",
        "      turtle.left(10)"
      ],
      "execution_count": null,
      "outputs": []
    },
    {
      "cell_type": "markdown",
      "metadata": {
        "id": "oAlgqk6WDYa7"
      },
      "source": [
        "\n",
        "#Exercise - 15 - Testing\n",
        "a) Write a test-case to check the function even numbers which return True on passing a list of all even number"
      ]
    },
    {
      "cell_type": "code",
      "metadata": {
        "id": "ZB1n4vC-DbXP"
      },
      "source": [
        "def evenNo(num):\n",
        "    state=True\n",
        "    \n",
        "    for i in num:\n",
        "      if i%2==1:\n",
        "       state=False\n",
        "       break\n",
        "    return state\n",
        "\n",
        "numbers=[]\n",
        "for i in range(0,2):\n",
        "  numbers.append(int(input(\"enter a value\")))\n",
        "  print(evenNo(numbers))"
      ],
      "execution_count": null,
      "outputs": []
    }
  ]
}